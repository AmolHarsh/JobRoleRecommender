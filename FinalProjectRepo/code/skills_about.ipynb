{
 "cells": [
  {
   "cell_type": "markdown",
   "metadata": {},
   "source": [
    "In this file, we are extracting relevant skills from the About Section of a profile"
   ]
  },
  {
   "cell_type": "code",
   "execution_count": 1,
   "metadata": {},
   "outputs": [],
   "source": [
    "# Importing the necessary libraries\n",
    "\n",
    "from langchain.llms import OpenAIChat\n",
    "from langchain.prompts import PromptTemplate\n",
    "from langchain.chains import LLMChain\n",
    "import ast\n",
    "import pandas as pd"
   ]
  },
  {
   "cell_type": "code",
   "execution_count": 2,
   "metadata": {},
   "outputs": [
    {
     "data": {
      "text/plain": [
       "'Return the output in the format of a python list.'"
      ]
     },
     "execution_count": 2,
     "metadata": {},
     "output_type": "execute_result"
    }
   ],
   "source": [
    "\"Return the output in the format of a python list.\""
   ]
  },
  {
   "cell_type": "code",
   "execution_count": 3,
   "metadata": {},
   "outputs": [
    {
     "name": "stderr",
     "output_type": "stream",
     "text": [
      "/Users/aryamankhandelwal/opt/anaconda3/envs/ml/lib/python3.10/site-packages/langchain/llms/openai.py:790: UserWarning: You are trying to use a chat model. This way of initializing it is no longer supported. Instead, please use: `from langchain.chat_models import ChatOpenAI`\n",
      "  warnings.warn(\n"
     ]
    },
    {
     "name": "stdout",
     "output_type": "stream",
     "text": [
      "['Mathematics', 'Artificial Intelligence', 'Intelligent systems', 'scalable pipelines']\n",
      "************** BREAK ******************\n",
      "['data analytics', 'machine learning']\n",
      "********* BREAK ********\n",
      "No Skill\n"
     ]
    }
   ],
   "source": [
    "class KeywordExtraction():\n",
    "    def __init__(self):\n",
    "        self.prompt = \"\"\" \n",
    "You will be given a job role {role} and a Linkedin profile's About section {input} as input. \n",
    "Your task is to carefully go through the About section, and extract all the skills that the person has, which is required for the job role.\n",
    "The About section might include the person's interest or fascination, and you should not include those in the extracted keywords. \n",
    "If after carefully going through the About section, you are unable to find any skill required for the job role, then return the output as: \"No Skill\".\n",
    "If after carefully going through the About section, you are able to find any skill required for the job role, then return the skills in the format of a python list.\n",
    "\"\"\"\n",
    "\n",
    "        self.llm = OpenAIChat(model_name='gpt-3.5-turbo-16k',openai_api_key=\"USE GPT API KEY\",temperature=0)\n",
    "\n",
    "    def extract_keywords_about(self,about,role):\n",
    "        prompt = PromptTemplate(input_variables=['role','input'],template=self.prompt)\n",
    "        chain = LLMChain(llm=self.llm, prompt = prompt)\n",
    "        output = chain.run({'input':about,'role':role})\n",
    "        print(output)\n",
    "\n",
    "    def unique(lst):\n",
    "        list_of_unique_numbers = []\n",
    "\n",
    "        unique_numbers = set(lst)\n",
    "        \n",
    "        for number in unique_numbers:\n",
    "            list_of_unique_numbers.append(number)\n",
    "\n",
    "        return list_of_unique_numbers\n",
    "\n",
    "def main():\n",
    "    obj = KeywordExtraction()\n",
    "    role = \"Data Scientist\"\n",
    "    data = pd.read_excel('Data Scientist.xlsx')\n",
    "    input_text = \"\"\"Designed, developed and deployed Tableau and PowerBI dashboards to track key business metrics.\n",
    "        Collaborated with Database teams in designing the data structure which allowed to create analysis friendly tables avoiding complex ETL processes.\n",
    "    \"\"\"\n",
    "    # obj.extract_keywords_about(input_text,role)\n",
    "    # print(\"************** BREAK ******************\")\n",
    "    input_text = \"\"\" As a Mathematics lover, I have always been fascinated by how simple concepts combined together can be used to create path-breaking Artificial Intelligence. Inspired by Alan Turing and his idea of \"Thinking Machines\", my choice of career is my passion and not just a means to earn my living. I am passionate about building Intelligent systems and tying them to scalable pipelines.\"\"\"\n",
    "    obj.extract_keywords_about(input_text,role)\n",
    "    print(\"************** BREAK ******************\")\n",
    "    input_text = \"\"\" I am an object oriented person and my objective is to procure a position where I can use my data analytics, machine learning skills and contribute towards the organization's goal, while enhancing my knowledge with the trending technology in the domain. I am an object oriented person and my objective is to procure a position where I can use my data analytics, machine learning skills and contribute towards the organization's goal, while enhancing my knowledge with the trending technology in the domain.\"\"\"\n",
    "    obj.extract_keywords_about(input_text,role)\n",
    "    print(\"********* BREAK ********\")\n",
    "    input_text = \"\"\"State Bank of India (SBI) a Fortune 500 company, is an Indian Multinational, Public Sector Banking and Financial services statutory body headquartered in Mumbai. The largest Indian Bank with 1/4th market share, serves over 44 crore customers through its vast network of over 22,000 branches, 58,500 ATMs, 66,000 BC outlets, with an undeterred focus on innovation and customer centricity.\"\"\"\n",
    "    obj.extract_keywords_about(input_text,role)\n",
    "main()\n"
   ]
  },
  {
   "cell_type": "markdown",
   "metadata": {},
   "source": [
    "['Tableau', 'PowerBI', 'dashboards', 'business metrics', 'Database teams', 'data structure', 'analysis friendly tables', 'complex ETL processes']\n",
    "\n",
    "\n",
    "\n",
    "['Mathematics', 'fascinated', 'simple concepts', 'Artificial Intelligence', 'Alan Turing', 'Thinking Machines', 'career', 'passion', 'Intelligent systems', 'scalable pipelines']"
   ]
  },
  {
   "cell_type": "code",
   "execution_count": 11,
   "metadata": {},
   "outputs": [],
   "source": [
    "input_text = \"\"\" As the Senior Manager and Data Scientist at Unilever, I lead a team of data professionals for the AI platform initiatives on the Distributor Management System (DMS). I am responsible for developing and industrializing machine learning solutions for recommendations, predictive analytics, and natural language processing. I have 9+ years of experience in data science and analytics, with expertise in Python, supervised and unsupervised learning techniques, and applied statistics.\n",
    "\n",
    "    I am passionate about learning, teaching, and writing. I have trained over 5000 people worldwide on machine learning and artificial intelligence, and I am a visiting faculty for M.Tech programs on data science at various institutes. I have also published a book of poems called \"Grey\", which is listed globally. I hold a Master's degree in Machine Learning and Artificial Intelligence from International Institute of Information Technology Bangalore, and a Certificate in Spanish Language from THE ENGLISH AND FOREIGN LANGUAGES UNIVERSITY. My goal is to leverage my skills and knowledge to create value and impact for businesses and society.\n",
    "\n",
    "    My book \"Grey\" is listed globally. Links below:\n",
    "    Amazon.in : https://www.amazon.in/dp/1637455607\n",
    "    Flipkart : https://www.flipkart.com/grey/p/itmde02b4fc74d10?pid=9781637455609&affid=editornoti\n",
    "    Amazon.com : https://www.amazon.com/dp/1637455607\n",
    "    Amazon UK : https://www.amazon.co.uk/dp/1637455607\n",
    "    Amazon Kindle: https://www.amazon.in/Grey-Alka-Pandey-ebook/dp/B08T7L6G6V\n",
    "    Rakuten Kobo : https://www.kobo.com/in/en/ebook/grey-34\n",
    "    \"\"\"\n",
    "\n",
    "input_text = \"\"\" As a Mathematics lover, I have always been fascinated by how simple concepts combined together can be used to create path-breaking \n",
    "Artificial Intelligence. Inspired by Alan Turing and his idea of \"Thinking Machines\", my choice of career is my passion and not just a means to earn my living. \n",
    "I am passionate about building Intelligent systems and tying them to scalable pipelines.\"\"\""
   ]
  },
  {
   "cell_type": "code",
   "execution_count": 12,
   "metadata": {},
   "outputs": [
    {
     "data": {
      "text/plain": [
       "'You are an expert in summarising and extracting keywords. You will be given a paragraph as input. Your task is to extract only the necessary and relevant keywords from the inputted \\nparagraph, which are required in the job role: {role}.\\n\\nReturn all the extracted keywords in the form of python list.\\nThe inputted paragraph is:\\n{input}'"
      ]
     },
     "execution_count": 12,
     "metadata": {},
     "output_type": "execute_result"
    }
   ],
   "source": [
    "# PROMPT TEMPLATE\n",
    "\n",
    "\n",
    "\"\"\" \n",
    "You will be given a job role {role} and a Linkedin profile's About section {input_text} as input. \n",
    "Your task is to carefully go through the About section, and extract all the skills that the person has, which is required for the job role.\n",
    "The About section might include the person's interest, and you should not include that in the extracted keywords. \n",
    "If the person has no skill required for the job role, then return \"No skill\" as a python list.\n",
    "\n",
    "Return the output in the format of a python list.\n",
    "\n",
    "\"\"\"\n",
    "\n",
    "# CURRENT PROMPT\n",
    "\n",
    "\"\"\"You are an expert in summarising and extracting keywords. You will be given a paragraph as input. Your task is to extract only the necessary and relevant keywords from the inputted \n",
    "paragraph, which are required in the job role: {role}.\n",
    "\n",
    "Return all the extracted keywords in the form of python list.\n",
    "The inputted paragraph is:\n",
    "{input}\"\"\""
   ]
  }
 ],
 "metadata": {
  "kernelspec": {
   "display_name": "ml",
   "language": "python",
   "name": "python3"
  },
  "language_info": {
   "codemirror_mode": {
    "name": "ipython",
    "version": 3
   },
   "file_extension": ".py",
   "mimetype": "text/x-python",
   "name": "python",
   "nbconvert_exporter": "python",
   "pygments_lexer": "ipython3",
   "version": "3.10.9"
  }
 },
 "nbformat": 4,
 "nbformat_minor": 2
}
