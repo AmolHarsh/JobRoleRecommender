{
 "cells": [
  {
   "cell_type": "markdown",
   "metadata": {},
   "source": [
    "# Augmenting data using LangChain\n"
   ]
  },
  {
   "cell_type": "code",
   "execution_count": 1,
   "metadata": {},
   "outputs": [],
   "source": [
    "# Importing the necessary libraries\n",
    "\n",
    "from langchain.llms import OpenAIChat\n",
    "from langchain.prompts import PromptTemplate\n",
    "from langchain.chains import LLMChain\n",
    "import json\n",
    "import pandas as pd"
   ]
  },
  {
   "cell_type": "code",
   "execution_count": 2,
   "metadata": {},
   "outputs": [],
   "source": [
    "class TaskExecution():\n",
    "    def __init__(self):\n",
    "        self.prompt = \"\"\" \n",
    "        You are an expert in augemnting data and creating synthetic data.\n",
    "        You have been provided with a context, that is an about section of a person's about section:\n",
    "            {input}\n",
    "        Your task is to use the above section as a context, and create seven more sections for the job profile : {role}.\n",
    "        While creating data, use different technical Ideas and Concepts and experiences. Strictly create about sections for the given job profile only, and no other job profile.\n",
    "        Return in the format of a json object, and store each about section under the variable 'sections' in the json.\n",
    "        \"\"\"\n",
    "    def augment(self,input,role):\n",
    "        self.llm = OpenAIChat(model_name='gpt-3.5-turbo-1106',openai_api_key=\"ENTER YOUR OWN API KEY\",temperature=0)\n",
    "        role = \"Data Scientist\"\n",
    "        prompt = PromptTemplate(input_variables=['role','input'],template=self.prompt)\n",
    "        chain = LLMChain(llm=self.llm, prompt = prompt)\n",
    "        output = chain.run({'input':input, 'role':role})\n",
    "        return output\n",
    "        # return output"
   ]
  },
  {
   "cell_type": "code",
   "execution_count": 3,
   "metadata": {},
   "outputs": [
    {
     "name": "stderr",
     "output_type": "stream",
     "text": [
      "/Users/aryamankhandelwal/opt/anaconda3/envs/ml/lib/python3.10/site-packages/langchain/llms/openai.py:790: UserWarning: You are trying to use a chat model. This way of initializing it is no longer supported. Instead, please use: `from langchain.chat_models import ChatOpenAI`\n",
      "  warnings.warn(\n",
      "\n",
      "KeyboardInterrupt\n",
      "\n"
     ]
    }
   ],
   "source": [
    "# Job Roles that we will be augmenting the data on\n",
    "\n",
    "job_role = [\n",
    "    'Business Analyst.xlsx',\n",
    "    'Computational Biologist.xlsx',\n",
    "    'Data Analyst.xlsx',\n",
    "    'Economist.xlsx',\n",
    "    'Electromechanical engineer.xlsx',\n",
    "    'Evolutionary Biologist.xlsx',\n",
    "    'Financial Analyst.xlsx',\n",
    "    'Genetic Engineer.xlsx',\n",
    "    'Product Manager.xlsx',\n",
    "    'Protocol engineer.xlsx',\n",
    "    'Quant.xlsx',\n",
    "    'Robotics Machine Learning Engineer.xlsx',\n",
    "    'RoboticsEngineer.xlsx',\n",
    "    'Synthetic Biologist.xlsx'\n",
    "]\n",
    "\n",
    "master_lst = []\n",
    "obj = TaskExecution()\n",
    "role = job_role[2]\n",
    "data = pd.read_excel(role)\n",
    "for i in range(0,10):\n",
    "    input = data['combined_text'][i]\n",
    "    output = obj.augment(input,role)\n",
    "    json_object = json.loads(output)\n",
    "    output_values = json_object['sections']\n",
    "    for sublist in output_values:\n",
    "            master_lst.append(sublist)\n",
    "\n",
    "df = pd.DataFrame(master_lst,columns=['combined_text'])\n",
    "# Saving the data frame to an excel file\n",
    "writer = pd.ExcelWriter(f'augmented {role}')\n",
    "df.to_excel(writer, index=False)\n",
    "writer.save()"
   ]
  }
 ],
 "metadata": {
  "kernelspec": {
   "display_name": "ml",
   "language": "python",
   "name": "python3"
  },
  "language_info": {
   "codemirror_mode": {
    "name": "ipython",
    "version": 3
   },
   "file_extension": ".py",
   "mimetype": "text/x-python",
   "name": "python",
   "nbconvert_exporter": "python",
   "pygments_lexer": "ipython3",
   "version": "3.10.9"
  }
 },
 "nbformat": 4,
 "nbformat_minor": 2
}
